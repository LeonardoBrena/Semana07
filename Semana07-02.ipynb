{
 "cells": [
  {
   "cell_type": "markdown",
   "id": "89330a24",
   "metadata": {},
   "source": [
    "# Semana 07\n",
    "Leonardo Breña Santi"
   ]
  },
  {
   "cell_type": "code",
   "execution_count": null,
   "id": "6e04826a",
   "metadata": {},
   "outputs": [],
   "source": [
    "Temas:\n",
    "    1. Números\n",
    "    2. Variables\n",
    "    3. Manejo de cadenas\n",
    "    4. Ingreso de datos por teclado\n",
    "    5. Operadores"
   ]
  },
  {
   "cell_type": "markdown",
   "id": "616a26f2",
   "metadata": {},
   "source": [
    "2. variables"
   ]
  },
  {
   "cell_type": "code",
   "execution_count": null,
   "id": "040ca402",
   "metadata": {},
   "outputs": [],
   "source": [
    "Siempre "
   ]
  },
  {
   "cell_type": "code",
   "execution_count": 1,
   "id": "7254f2b1",
   "metadata": {},
   "outputs": [],
   "source": [
    "edad = 41"
   ]
  },
  {
   "cell_type": "code",
   "execution_count": 2,
   "id": "502daa2e",
   "metadata": {},
   "outputs": [
    {
     "data": {
      "text/plain": [
       "41"
      ]
     },
     "execution_count": 2,
     "metadata": {},
     "output_type": "execute_result"
    }
   ],
   "source": [
    "edad"
   ]
  },
  {
   "cell_type": "code",
   "execution_count": 3,
   "id": "4781c667",
   "metadata": {},
   "outputs": [],
   "source": [
    "nombre = \"Leonardo\""
   ]
  },
  {
   "cell_type": "code",
   "execution_count": 4,
   "id": "188c1a38",
   "metadata": {},
   "outputs": [
    {
     "data": {
      "text/plain": [
       "'Leonardo'"
      ]
     },
     "execution_count": 4,
     "metadata": {},
     "output_type": "execute_result"
    }
   ],
   "source": [
    "nombre"
   ]
  },
  {
   "cell_type": "code",
   "execution_count": 5,
   "id": "5e61c9e1",
   "metadata": {},
   "outputs": [],
   "source": [
    "apellido = \"Breña Santi\""
   ]
  },
  {
   "cell_type": "code",
   "execution_count": 6,
   "id": "191669be",
   "metadata": {},
   "outputs": [
    {
     "data": {
      "text/plain": [
       "' Breña Santi'"
      ]
     },
     "execution_count": 6,
     "metadata": {},
     "output_type": "execute_result"
    }
   ],
   "source": [
    "apellido"
   ]
  },
  {
   "cell_type": "code",
   "execution_count": 12,
   "id": "009054cb",
   "metadata": {},
   "outputs": [],
   "source": [
    "nombrecompleto = nombre +\"\"+ apellido"
   ]
  },
  {
   "cell_type": "code",
   "execution_count": 13,
   "id": "6d7471ad",
   "metadata": {},
   "outputs": [
    {
     "data": {
      "text/plain": [
       "'Leonardo Breña Santi'"
      ]
     },
     "execution_count": 13,
     "metadata": {},
     "output_type": "execute_result"
    }
   ],
   "source": [
    "nombrecompleto"
   ]
  },
  {
   "cell_type": "code",
   "execution_count": 16,
   "id": "5b832445",
   "metadata": {},
   "outputs": [
    {
     "data": {
      "text/plain": [
       "int"
      ]
     },
     "execution_count": 16,
     "metadata": {},
     "output_type": "execute_result"
    }
   ],
   "source": [
    "# para saber el tipo de variable utilizaremos la funcion type()\n",
    "# por ejemplo:\n",
    "numero = 50\n",
    "type(numero)"
   ]
  },
  {
   "cell_type": "code",
   "execution_count": 20,
   "id": "c1d44834",
   "metadata": {},
   "outputs": [
    {
     "data": {
      "text/plain": [
       "'100'"
      ]
     },
     "execution_count": 20,
     "metadata": {},
     "output_type": "execute_result"
    }
   ],
   "source": [
    "#convertir un numero en cadena utilizamos str()\n",
    "numero = 100\n",
    "cadena = str(numero)\n",
    "cadena"
   ]
  },
  {
   "cell_type": "code",
   "execution_count": 21,
   "id": "30634013",
   "metadata": {},
   "outputs": [
    {
     "data": {
      "text/plain": [
       "str"
      ]
     },
     "execution_count": 21,
     "metadata": {},
     "output_type": "execute_result"
    }
   ],
   "source": [
    "type(cadena)"
   ]
  },
  {
   "cell_type": "code",
   "execution_count": 22,
   "id": "2602056f",
   "metadata": {},
   "outputs": [
    {
     "data": {
      "text/plain": [
       "50"
      ]
     },
     "execution_count": 22,
     "metadata": {},
     "output_type": "execute_result"
    }
   ],
   "source": [
    "#para convertir una cadena en un entero utilzamos int()\n",
    "cadena2 = \"50\"\n",
    "numero2 = int(cadena2)\n",
    "numero2"
   ]
  },
  {
   "cell_type": "code",
   "execution_count": 25,
   "id": "13e00085",
   "metadata": {},
   "outputs": [
    {
     "data": {
      "text/plain": [
       "50.0"
      ]
     },
     "execution_count": 25,
     "metadata": {},
     "output_type": "execute_result"
    }
   ],
   "source": [
    "# Para convertir un cadena a un decimal utilizamos float()\n",
    "cadena2 = \"50\"\n",
    "numero2 = float(cadena2)\n",
    "numero2"
   ]
  },
  {
   "cell_type": "code",
   "execution_count": 26,
   "id": "f07fc711",
   "metadata": {},
   "outputs": [
    {
     "data": {
      "text/plain": [
       "float"
      ]
     },
     "execution_count": 26,
     "metadata": {},
     "output_type": "execute_result"
    }
   ],
   "source": [
    "type(numero2)"
   ]
  },
  {
   "cell_type": "code",
   "execution_count": null,
   "id": "c2b0900b",
   "metadata": {},
   "outputs": [],
   "source": []
  }
 ],
 "metadata": {
  "kernelspec": {
   "display_name": "Python 3 (ipykernel)",
   "language": "python",
   "name": "python3"
  },
  "language_info": {
   "codemirror_mode": {
    "name": "ipython",
    "version": 3
   },
   "file_extension": ".py",
   "mimetype": "text/x-python",
   "name": "python",
   "nbconvert_exporter": "python",
   "pygments_lexer": "ipython3",
   "version": "3.9.12"
  }
 },
 "nbformat": 4,
 "nbformat_minor": 5
}
