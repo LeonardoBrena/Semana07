{
 "cells": [
  {
   "cell_type": "markdown",
   "id": "9820491f",
   "metadata": {},
   "source": [
    "# Semana 07\n",
    "Leonardo Breña Santi"
   ]
  },
  {
   "cell_type": "markdown",
   "id": "a7713699",
   "metadata": {},
   "source": [
    "# Temas:\n",
    "    1. Números\n",
    "    2. Variables\n",
    "    3. Manejo de cadenas\n",
    "    4. Ingreso de datos por teclado\n",
    "    5. Operadores"
   ]
  },
  {
   "cell_type": "markdown",
   "id": "b4933cdb",
   "metadata": {},
   "source": [
    "### 5. Operadores"
   ]
  },
  {
   "cell_type": "code",
   "execution_count": 1,
   "id": "327798ac",
   "metadata": {},
   "outputs": [],
   "source": [
    "# 5.1 operadores aritmeticos\n",
    "# se tiene +, *, /, \"\", %, "
   ]
  },
  {
   "cell_type": "code",
   "execution_count": 6,
   "id": "e6aefc25",
   "metadata": {},
   "outputs": [
    {
     "name": "stdout",
     "output_type": "stream",
     "text": [
      "13\n",
      "7\n",
      "30\n",
      "3.3333333333333335\n",
      "1\n",
      "3\n",
      "1000\n"
     ]
    }
   ],
   "source": [
    "numero1 = 10\n",
    "numero2 = 3\n",
    "suma = numero1 + numero2\n",
    "resta = numero1 - numero2\n",
    "multiplicacion = numero1 * numero2\n",
    "division = numero1 / numero2\n",
    "residuo = numero1 % numero2\n",
    "cociente = numero1 // numero2\n",
    "potencia = numero1 ** numero2\n",
    "print(suma)\n",
    "print(resta)\n",
    "print(multiplicacion)\n",
    "print(division)\n",
    "print(residuo)\n",
    "print(cociente)\n",
    "print(potencia)"
   ]
  },
  {
   "cell_type": "code",
   "execution_count": 7,
   "id": "97b1ebbe",
   "metadata": {},
   "outputs": [
    {
     "name": "stdout",
     "output_type": "stream",
     "text": [
      "8\n"
     ]
    }
   ],
   "source": [
    "# 5.2 operadores de asignacion\n",
    "numero = 5\n",
    "numero = numero +3\n",
    "print(numero)"
   ]
  },
  {
   "cell_type": "code",
   "execution_count": 8,
   "id": "04a8b420",
   "metadata": {},
   "outputs": [
    {
     "name": "stdout",
     "output_type": "stream",
     "text": [
      "8\n"
     ]
    }
   ],
   "source": [
    "numero = 5\n",
    "numero +=3\n",
    "print(numero)"
   ]
  },
  {
   "cell_type": "code",
   "execution_count": 9,
   "id": "4a3cb990",
   "metadata": {},
   "outputs": [
    {
     "name": "stdout",
     "output_type": "stream",
     "text": [
      "125\n"
     ]
    }
   ],
   "source": [
    "numero = 5\n",
    "numero = numero ** 3\n",
    "print(numero)"
   ]
  },
  {
   "cell_type": "code",
   "execution_count": 12,
   "id": "55963e21",
   "metadata": {},
   "outputs": [
    {
     "name": "stdout",
     "output_type": "stream",
     "text": [
      "3125\n"
     ]
    }
   ],
   "source": [
    "numero = 5\n",
    "numero **= 5\n",
    "print(numero)"
   ]
  },
  {
   "cell_type": "code",
   "execution_count": 13,
   "id": "5ba4592b",
   "metadata": {},
   "outputs": [
    {
     "data": {
      "text/plain": [
       "False"
      ]
     },
     "execution_count": 13,
     "metadata": {},
     "output_type": "execute_result"
    }
   ],
   "source": [
    "#operadores de comparacion\n",
    "#ejemplo de igualdad\n",
    "numero1 = 5\n",
    "numero2 = 2\n",
    "numero1 == numero2"
   ]
  },
  {
   "cell_type": "code",
   "execution_count": 14,
   "id": "d1629f2c",
   "metadata": {},
   "outputs": [
    {
     "data": {
      "text/plain": [
       "True"
      ]
     },
     "execution_count": 14,
     "metadata": {},
     "output_type": "execute_result"
    }
   ],
   "source": [
    "# con cadenas es iguak\n",
    "nombre1 = \"juan\"\n",
    "nombre2 = \"juan\"\n",
    "nombre1 == nombre2"
   ]
  },
  {
   "cell_type": "code",
   "execution_count": 15,
   "id": "1891b666",
   "metadata": {},
   "outputs": [
    {
     "data": {
      "text/plain": [
       "True"
      ]
     },
     "execution_count": 15,
     "metadata": {},
     "output_type": "execute_result"
    }
   ],
   "source": [
    "# El not invierte el resiltado\n",
    "not(numero1<numero2)"
   ]
  },
  {
   "cell_type": "code",
   "execution_count": 16,
   "id": "71bc8396",
   "metadata": {},
   "outputs": [
    {
     "data": {
      "text/plain": [
       "False"
      ]
     },
     "execution_count": 16,
     "metadata": {},
     "output_type": "execute_result"
    }
   ],
   "source": [
    "numero1<numero2 and numero3<numero4"
   ]
  },
  {
   "cell_type": "code",
   "execution_count": 19,
   "id": "e8acb174",
   "metadata": {},
   "outputs": [
    {
     "ename": "NameError",
     "evalue": "name 'numero3' is not defined",
     "output_type": "error",
     "traceback": [
      "\u001b[1;31m---------------------------------------------------------------------------\u001b[0m",
      "\u001b[1;31mNameError\u001b[0m                                 Traceback (most recent call last)",
      "Input \u001b[1;32mIn [19]\u001b[0m, in \u001b[0;36m<cell line: 2>\u001b[1;34m()\u001b[0m\n\u001b[0;32m      1\u001b[0m \u001b[38;5;66;03m# tambien puedes utilizar parentesis para ordenar tu operacion\u001b[39;00m\n\u001b[1;32m----> 2\u001b[0m (numero1\u001b[38;5;241m<\u001b[39mnumero2 \u001b[38;5;129;01mand\u001b[39;00m numero3\u001b[38;5;241m<\u001b[39mnumero4) \u001b[38;5;129;01mor\u001b[39;00m (\u001b[43mnumero3\u001b[49m\u001b[38;5;241m<\u001b[39mnumero4)\n",
      "\u001b[1;31mNameError\u001b[0m: name 'numero3' is not defined"
     ]
    }
   ],
   "source": [
    "# tambien puedes utilizar parentesis para ordenar tu operacion\n",
    "(numero1<numero2 and numero3<numero4) or (numero3<numero4)"
   ]
  },
  {
   "cell_type": "code",
   "execution_count": 17,
   "id": "1cac7801",
   "metadata": {},
   "outputs": [],
   "source": [
    "#5.5 Operadores de pertenencia\n",
    "# se tiene: in, not in"
   ]
  },
  {
   "cell_type": "code",
   "execution_count": 22,
   "id": "2f3b3df7",
   "metadata": {},
   "outputs": [
    {
     "data": {
      "text/plain": [
       "True"
      ]
     },
     "execution_count": 22,
     "metadata": {},
     "output_type": "execute_result"
    }
   ],
   "source": [
    "# miremos un ejemplo:\n",
    "aula = [\"leonardo\",\"Daniel\",\"Ruben\"]\n",
    "alumno1=\"Roberto\"\n",
    "alumno2=\"leonardo\"\n",
    "alumno1 not in aula"
   ]
  },
  {
   "cell_type": "code",
   "execution_count": 23,
   "id": "6b8ac510",
   "metadata": {},
   "outputs": [],
   "source": [
    "# 5.6 operadores de indentidad\n",
    "# se tiene: is, is not"
   ]
  },
  {
   "cell_type": "code",
   "execution_count": 25,
   "id": "91124361",
   "metadata": {},
   "outputs": [],
   "source": [
    "aula1 = [\"juan\",\"daniel\",\"Ruben\"]\n",
    "aula2 = [\"juan\",\"daniel\",\"Ruben\"]\n",
    "# A continuacion vamos a indicar que aula3 va a\n",
    "# compartir el mismo obejto que aula1\n",
    "aula3 = aula1"
   ]
  },
  {
   "cell_type": "code",
   "execution_count": 26,
   "id": "822f0295",
   "metadata": {},
   "outputs": [
    {
     "data": {
      "text/plain": [
       "True"
      ]
     },
     "execution_count": 26,
     "metadata": {},
     "output_type": "execute_result"
    }
   ],
   "source": [
    "aula3 is aula1"
   ]
  },
  {
   "cell_type": "code",
   "execution_count": 27,
   "id": "e0cad0c7",
   "metadata": {},
   "outputs": [
    {
     "data": {
      "text/plain": [
       "False"
      ]
     },
     "execution_count": 27,
     "metadata": {},
     "output_type": "execute_result"
    }
   ],
   "source": [
    "aula3 is aula2"
   ]
  },
  {
   "cell_type": "code",
   "execution_count": 28,
   "id": "a987d717",
   "metadata": {},
   "outputs": [
    {
     "data": {
      "text/plain": [
       "False"
      ]
     },
     "execution_count": 28,
     "metadata": {},
     "output_type": "execute_result"
    }
   ],
   "source": [
    "aula2 is aula1"
   ]
  },
  {
   "cell_type": "code",
   "execution_count": 29,
   "id": "5fb1f10c",
   "metadata": {},
   "outputs": [],
   "source": [
    "aula1.append(\"diego\")"
   ]
  },
  {
   "cell_type": "code",
   "execution_count": 30,
   "id": "1a5f286c",
   "metadata": {},
   "outputs": [
    {
     "name": "stdout",
     "output_type": "stream",
     "text": [
      "['juan', 'daniel', 'Ruben', 'diego']\n"
     ]
    }
   ],
   "source": [
    "print(aula1)"
   ]
  },
  {
   "cell_type": "code",
   "execution_count": 31,
   "id": "968b64a3",
   "metadata": {},
   "outputs": [
    {
     "name": "stdout",
     "output_type": "stream",
     "text": [
      "['juan', 'daniel', 'Ruben', 'diego']\n"
     ]
    }
   ],
   "source": [
    "print(aula3)"
   ]
  },
  {
   "cell_type": "code",
   "execution_count": null,
   "id": "e48d83d4",
   "metadata": {},
   "outputs": [],
   "source": []
  }
 ],
 "metadata": {
  "kernelspec": {
   "display_name": "Python 3 (ipykernel)",
   "language": "python",
   "name": "python3"
  },
  "language_info": {
   "codemirror_mode": {
    "name": "ipython",
    "version": 3
   },
   "file_extension": ".py",
   "mimetype": "text/x-python",
   "name": "python",
   "nbconvert_exporter": "python",
   "pygments_lexer": "ipython3",
   "version": "3.9.12"
  }
 },
 "nbformat": 4,
 "nbformat_minor": 5
}
